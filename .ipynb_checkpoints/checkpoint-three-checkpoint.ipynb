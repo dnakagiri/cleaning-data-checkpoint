{
 "cells": [
  {
   "cell_type": "markdown",
   "metadata": {
    "azdata_cell_guid": "26037d32-2047-4157-81ef-595916bd66a0"
   },
   "source": [
    "# Checkpoint Three: Cleaning Data\n",
    "\n",
    "Now you are ready to clean your data. Before starting coding, provide the link to your dataset below.\n",
    "\n",
    "My dataset:\n",
    "\n",
    "Import the necessary libraries and create your dataframe(s)."
   ]
  },
  {
   "cell_type": "code",
   "execution_count": 2,
   "metadata": {
    "azdata_cell_guid": "e8adef8e-d0f2-4640-a179-5997f11e82ca"
   },
   "outputs": [],
   "source": [
    "# import libraries\n",
    "import pandas as pd\n",
    "import numpy as np\n",
    "import matplotlib.pyplot as plt\n",
    "import seaborn as sns\n",
    "\n",
    "# create dataframes\n",
    "gen_stats = pd.read_csv('Basic_Stats.csv')\n",
    "passing_stats = pd.read_csv('Career_Stats_Passing.csv')"
   ]
  },
  {
   "cell_type": "markdown",
   "metadata": {
    "azdata_cell_guid": "e172475a-c4ee-414a-8367-9965355dbba6"
   },
   "source": [
    "## Missing Data\n",
    "\n",
    "Test your dataset for missing data and handle it as needed. Make notes in the form of code comments as to your thought process."
   ]
  },
  {
   "cell_type": "code",
   "execution_count": 3,
   "metadata": {
    "azdata_cell_guid": "e1dc66ef-e471-4c27-92e7-ee878c106eba"
   },
   "outputs": [
    {
     "data": {
      "text/plain": [
       "(17172, 16)"
      ]
     },
     "execution_count": 3,
     "metadata": {},
     "output_type": "execute_result"
    }
   ],
   "source": [
    "# initial size of dataframe\n",
    "gen_stats.shape\n"
   ]
  },
  {
   "cell_type": "code",
   "execution_count": 4,
   "metadata": {},
   "outputs": [
    {
     "data": {
      "text/plain": [
       "(8525, 23)"
      ]
     },
     "execution_count": 4,
     "metadata": {},
     "output_type": "execute_result"
    }
   ],
   "source": [
    "passing_stats.shape"
   ]
  },
  {
   "cell_type": "code",
   "execution_count": 5,
   "metadata": {},
   "outputs": [
    {
     "name": "stdout",
     "output_type": "stream",
     "text": [
      "Age-21%\n",
      "Birth Place-14%\n",
      "Birthday-2%\n",
      "College-0%\n",
      "Current Status-0%\n",
      "Current Team-82%\n",
      "Experience-0%\n",
      "Height (inches)-1%\n",
      "High School-85%\n",
      "High School Location-85%\n",
      "Name-0%\n",
      "Number-90%\n",
      "Player Id-0%\n",
      "Position-82%\n",
      "Weight (lbs)-0%\n",
      "Years Played-18%\n"
     ]
    }
   ],
   "source": [
    "# percentage of missing data\n",
    "\n",
    "for col in gen_stats.columns:\n",
    "    pct_missing = np.mean(gen_stats[col].isnull())\n",
    "    print('{}-{}%'.format(col, round(pct_missing*100)))"
   ]
  },
  {
   "cell_type": "code",
   "execution_count": 6,
   "metadata": {},
   "outputs": [
    {
     "name": "stdout",
     "output_type": "stream",
     "text": [
      "Player Id-0%\n",
      "Name-0%\n",
      "Position-87%\n",
      "Year-0%\n",
      "Team-0%\n",
      "Games Played-0%\n",
      "Passes Attempted-0%\n",
      "Passes Completed-0%\n",
      "Completion Percentage-0%\n",
      "Pass Attempts Per Game-0%\n",
      "Passing Yards-0%\n",
      "Passing Yards Per Attempt-0%\n",
      "Passing Yards Per Game-0%\n",
      "TD Passes-0%\n",
      "Percentage of TDs per Attempts-0%\n",
      "Ints-0%\n",
      "Int Rate-0%\n",
      "Longest Pass-0%\n",
      "Passes Longer than 20 Yards-0%\n",
      "Passes Longer than 40 Yards-0%\n",
      "Sacks-0%\n",
      "Sacked Yards Lost-0%\n",
      "Passer Rating-0%\n"
     ]
    }
   ],
   "source": [
    "for col in passing_stats.columns:\n",
    "    pct_missing = np.mean(passing_stats[col].isnull())\n",
    "    print('{}-{}%'.format(col, round(pct_missing*100)))"
   ]
  },
  {
   "cell_type": "code",
   "execution_count": 7,
   "metadata": {},
   "outputs": [
    {
     "data": {
      "text/plain": [
       "Age                      3668\n",
       "Birth Place              2378\n",
       "Birthday                  337\n",
       "College                    39\n",
       "Current Status              0\n",
       "Current Team            14076\n",
       "Experience                 39\n",
       "Height (inches)           146\n",
       "High School             14658\n",
       "High School Location    14662\n",
       "Name                        0\n",
       "Number                  15464\n",
       "Player Id                   0\n",
       "Position                14076\n",
       "Weight (lbs)               51\n",
       "Years Played             3096\n",
       "dtype: int64"
      ]
     },
     "execution_count": 7,
     "metadata": {},
     "output_type": "execute_result"
    }
   ],
   "source": [
    "# looking at the sum of missing values\n",
    "gen_stats.isnull().sum()\n"
   ]
  },
  {
   "cell_type": "code",
   "execution_count": 8,
   "metadata": {},
   "outputs": [
    {
     "data": {
      "text/plain": [
       "Player Id                            0\n",
       "Name                                 0\n",
       "Position                          7414\n",
       "Year                                 0\n",
       "Team                                 0\n",
       "Games Played                         0\n",
       "Passes Attempted                     0\n",
       "Passes Completed                     0\n",
       "Completion Percentage                0\n",
       "Pass Attempts Per Game               0\n",
       "Passing Yards                        0\n",
       "Passing Yards Per Attempt            0\n",
       "Passing Yards Per Game               0\n",
       "TD Passes                            0\n",
       "Percentage of TDs per Attempts       0\n",
       "Ints                                 0\n",
       "Int Rate                             0\n",
       "Longest Pass                         0\n",
       "Passes Longer than 20 Yards          0\n",
       "Passes Longer than 40 Yards          0\n",
       "Sacks                                0\n",
       "Sacked Yards Lost                    0\n",
       "Passer Rating                        0\n",
       "dtype: int64"
      ]
     },
     "execution_count": 8,
     "metadata": {},
     "output_type": "execute_result"
    }
   ],
   "source": [
    "passing_stats.isnull().sum()"
   ]
  },
  {
   "cell_type": "code",
   "execution_count": 9,
   "metadata": {},
   "outputs": [
    {
     "data": {
      "text/plain": [
       "(17172, 13)"
      ]
     },
     "execution_count": 9,
     "metadata": {},
     "output_type": "execute_result"
    }
   ],
   "source": [
    "#dropping these because they have the highest percentage of missing data and I won't be needing them \n",
    "\n",
    "cols_to_drop = ['High School', 'High School Location', 'Number']\n",
    "\n",
    "gen_stats = gen_stats.drop(cols_to_drop, axis=1)\n",
    "gen_stats.shape"
   ]
  },
  {
   "cell_type": "code",
   "execution_count": 10,
   "metadata": {},
   "outputs": [],
   "source": [
    "# passing_stats\n",
    "#colmns_to_drop = ['']\n",
    "# no columns to drop since there are no significant missing values. We need the columns for analysis."
   ]
  },
  {
   "cell_type": "code",
   "execution_count": 11,
   "metadata": {},
   "outputs": [
    {
     "data": {
      "text/html": [
       "<div>\n",
       "<style scoped>\n",
       "    .dataframe tbody tr th:only-of-type {\n",
       "        vertical-align: middle;\n",
       "    }\n",
       "\n",
       "    .dataframe tbody tr th {\n",
       "        vertical-align: top;\n",
       "    }\n",
       "\n",
       "    .dataframe thead th {\n",
       "        text-align: right;\n",
       "    }\n",
       "</style>\n",
       "<table border=\"1\" class=\"dataframe\">\n",
       "  <thead>\n",
       "    <tr style=\"text-align: right;\">\n",
       "      <th></th>\n",
       "      <th>Age</th>\n",
       "      <th>Birth Place</th>\n",
       "      <th>Birthday</th>\n",
       "      <th>College</th>\n",
       "      <th>Current Status</th>\n",
       "      <th>Current Team</th>\n",
       "      <th>Experience</th>\n",
       "      <th>Height (inches)</th>\n",
       "      <th>Name</th>\n",
       "      <th>Player Id</th>\n",
       "      <th>Position</th>\n",
       "      <th>Weight (lbs)</th>\n",
       "      <th>Years Played</th>\n",
       "      <th>field_posn</th>\n",
       "    </tr>\n",
       "  </thead>\n",
       "  <tbody>\n",
       "    <tr>\n",
       "      <th>0</th>\n",
       "      <td>NaN</td>\n",
       "      <td>Grand Rapids , MI</td>\n",
       "      <td>5/23/1921</td>\n",
       "      <td>Notre Dame</td>\n",
       "      <td>Retired</td>\n",
       "      <td>NaN</td>\n",
       "      <td>3 Seasons</td>\n",
       "      <td>71.0</td>\n",
       "      <td>Evans, Fred</td>\n",
       "      <td>fredevans/2513736</td>\n",
       "      <td>NaN</td>\n",
       "      <td>185.0</td>\n",
       "      <td>1946 - 1948</td>\n",
       "      <td>rtd</td>\n",
       "    </tr>\n",
       "    <tr>\n",
       "      <th>1</th>\n",
       "      <td>NaN</td>\n",
       "      <td>Dayton , OH</td>\n",
       "      <td>12/21/1930</td>\n",
       "      <td>Dayton</td>\n",
       "      <td>Retired</td>\n",
       "      <td>NaN</td>\n",
       "      <td>1 Season</td>\n",
       "      <td>70.0</td>\n",
       "      <td>Raiff, Jim</td>\n",
       "      <td>jimraiff/2523700</td>\n",
       "      <td>NaN</td>\n",
       "      <td>235.0</td>\n",
       "      <td>1954 - 1954</td>\n",
       "      <td>rtd</td>\n",
       "    </tr>\n",
       "    <tr>\n",
       "      <th>2</th>\n",
       "      <td>56.0</td>\n",
       "      <td>Temple , TX</td>\n",
       "      <td>9/11/1960</td>\n",
       "      <td>Louisiana Tech</td>\n",
       "      <td>Retired</td>\n",
       "      <td>NaN</td>\n",
       "      <td>1 Season</td>\n",
       "      <td>74.0</td>\n",
       "      <td>Fowler, Bobby</td>\n",
       "      <td>bobbyfowler/2514295</td>\n",
       "      <td>NaN</td>\n",
       "      <td>230.0</td>\n",
       "      <td>1985 - 1985</td>\n",
       "      <td>rtd</td>\n",
       "    </tr>\n",
       "    <tr>\n",
       "      <th>3</th>\n",
       "      <td>30.0</td>\n",
       "      <td>New Orleans , LA</td>\n",
       "      <td>9/30/1986</td>\n",
       "      <td>LSU</td>\n",
       "      <td>Retired</td>\n",
       "      <td>NaN</td>\n",
       "      <td>5 Seasons</td>\n",
       "      <td>73.0</td>\n",
       "      <td>Johnson, Quinn</td>\n",
       "      <td>quinnjohnson/79593</td>\n",
       "      <td>NaN</td>\n",
       "      <td>255.0</td>\n",
       "      <td>2009 - 2013</td>\n",
       "      <td>rtd</td>\n",
       "    </tr>\n",
       "    <tr>\n",
       "      <th>4</th>\n",
       "      <td>25.0</td>\n",
       "      <td>Detroit , MI</td>\n",
       "      <td>3/31/1992</td>\n",
       "      <td>Central Michigan</td>\n",
       "      <td>Active</td>\n",
       "      <td>Pittsburgh Steelers</td>\n",
       "      <td>3rd season</td>\n",
       "      <td>77.0</td>\n",
       "      <td>Walton, L.T.</td>\n",
       "      <td>l.t.walton/2552444</td>\n",
       "      <td>DE</td>\n",
       "      <td>305.0</td>\n",
       "      <td>NaN</td>\n",
       "      <td>dff</td>\n",
       "    </tr>\n",
       "  </tbody>\n",
       "</table>\n",
       "</div>"
      ],
      "text/plain": [
       "    Age        Birth Place    Birthday           College Current Status  \\\n",
       "0   NaN  Grand Rapids , MI   5/23/1921        Notre Dame        Retired   \n",
       "1   NaN        Dayton , OH  12/21/1930            Dayton        Retired   \n",
       "2  56.0        Temple , TX   9/11/1960    Louisiana Tech        Retired   \n",
       "3  30.0   New Orleans , LA   9/30/1986               LSU        Retired   \n",
       "4  25.0       Detroit , MI   3/31/1992  Central Michigan         Active   \n",
       "\n",
       "          Current Team  Experience  Height (inches)            Name  \\\n",
       "0                  NaN   3 Seasons             71.0     Evans, Fred   \n",
       "1                  NaN    1 Season             70.0      Raiff, Jim   \n",
       "2                  NaN    1 Season             74.0   Fowler, Bobby   \n",
       "3                  NaN   5 Seasons             73.0  Johnson, Quinn   \n",
       "4  Pittsburgh Steelers  3rd season             77.0    Walton, L.T.   \n",
       "\n",
       "             Player Id Position  Weight (lbs) Years Played field_posn  \n",
       "0    fredevans/2513736      NaN         185.0  1946 - 1948        rtd  \n",
       "1     jimraiff/2523700      NaN         235.0  1954 - 1954        rtd  \n",
       "2  bobbyfowler/2514295      NaN         230.0  1985 - 1985        rtd  \n",
       "3   quinnjohnson/79593      NaN         255.0  2009 - 2013        rtd  \n",
       "4   l.t.walton/2552444       DE         305.0          NaN        dff  "
      ]
     },
     "execution_count": 11,
     "metadata": {},
     "output_type": "execute_result"
    }
   ],
   "source": [
    "# creating column that specifies whether position plays offense or defense or special teams\n",
    "def create_field_position(series):\n",
    "    if series in ['RB', 'FB', 'LT', 'LG', 'C', 'RG', 'RT', 'WR', 'TE', 'OT', 'G', 'OG', 'T']:\n",
    "        return \"off\"\n",
    "    elif series in ['DE', 'DT', 'LB', 'CB', 'S', 'SS', 'FS', 'DB', 'MLB', 'ILB', 'OLB', 'NT', 'SAF', 'DL']:\n",
    "        return \"dff\"\n",
    "    elif series in ['K', 'LS', 'P']:\n",
    "        return \"special teams\"\n",
    "    elif series == 'QB':\n",
    "        return \"qtrback\"\n",
    "    else:\n",
    "        return \"rtd\"\n",
    "    \n",
    "gen_stats[\"field_posn\"] = gen_stats[\"Position\"].apply(create_field_position)\n",
    "gen_stats.head()"
   ]
  },
  {
   "cell_type": "code",
   "execution_count": 12,
   "metadata": {},
   "outputs": [
    {
     "data": {
      "text/html": [
       "<div>\n",
       "<style scoped>\n",
       "    .dataframe tbody tr th:only-of-type {\n",
       "        vertical-align: middle;\n",
       "    }\n",
       "\n",
       "    .dataframe tbody tr th {\n",
       "        vertical-align: top;\n",
       "    }\n",
       "\n",
       "    .dataframe thead th {\n",
       "        text-align: right;\n",
       "    }\n",
       "</style>\n",
       "<table border=\"1\" class=\"dataframe\">\n",
       "  <thead>\n",
       "    <tr style=\"text-align: right;\">\n",
       "      <th></th>\n",
       "      <th>Age</th>\n",
       "      <th>Birth Place</th>\n",
       "      <th>Birthday</th>\n",
       "      <th>College</th>\n",
       "      <th>Current Status</th>\n",
       "      <th>Current Team</th>\n",
       "      <th>Experience</th>\n",
       "      <th>Height (inches)</th>\n",
       "      <th>Name</th>\n",
       "      <th>Player Id</th>\n",
       "      <th>Position</th>\n",
       "      <th>Weight (lbs)</th>\n",
       "      <th>Years Played</th>\n",
       "      <th>field_posn</th>\n",
       "      <th>college_conf</th>\n",
       "    </tr>\n",
       "  </thead>\n",
       "  <tbody>\n",
       "    <tr>\n",
       "      <th>0</th>\n",
       "      <td>NaN</td>\n",
       "      <td>Grand Rapids , MI</td>\n",
       "      <td>5/23/1921</td>\n",
       "      <td>Notre Dame</td>\n",
       "      <td>Retired</td>\n",
       "      <td>NaN</td>\n",
       "      <td>3 Seasons</td>\n",
       "      <td>71.0</td>\n",
       "      <td>Evans, Fred</td>\n",
       "      <td>fredevans/2513736</td>\n",
       "      <td>NaN</td>\n",
       "      <td>185.0</td>\n",
       "      <td>1946 - 1948</td>\n",
       "      <td>rtd</td>\n",
       "      <td>other</td>\n",
       "    </tr>\n",
       "    <tr>\n",
       "      <th>1</th>\n",
       "      <td>NaN</td>\n",
       "      <td>Dayton , OH</td>\n",
       "      <td>12/21/1930</td>\n",
       "      <td>Dayton</td>\n",
       "      <td>Retired</td>\n",
       "      <td>NaN</td>\n",
       "      <td>1 Season</td>\n",
       "      <td>70.0</td>\n",
       "      <td>Raiff, Jim</td>\n",
       "      <td>jimraiff/2523700</td>\n",
       "      <td>NaN</td>\n",
       "      <td>235.0</td>\n",
       "      <td>1954 - 1954</td>\n",
       "      <td>rtd</td>\n",
       "      <td>other</td>\n",
       "    </tr>\n",
       "    <tr>\n",
       "      <th>2</th>\n",
       "      <td>56.0</td>\n",
       "      <td>Temple , TX</td>\n",
       "      <td>9/11/1960</td>\n",
       "      <td>Louisiana Tech</td>\n",
       "      <td>Retired</td>\n",
       "      <td>NaN</td>\n",
       "      <td>1 Season</td>\n",
       "      <td>74.0</td>\n",
       "      <td>Fowler, Bobby</td>\n",
       "      <td>bobbyfowler/2514295</td>\n",
       "      <td>NaN</td>\n",
       "      <td>230.0</td>\n",
       "      <td>1985 - 1985</td>\n",
       "      <td>rtd</td>\n",
       "      <td>other</td>\n",
       "    </tr>\n",
       "    <tr>\n",
       "      <th>3</th>\n",
       "      <td>30.0</td>\n",
       "      <td>New Orleans , LA</td>\n",
       "      <td>9/30/1986</td>\n",
       "      <td>LSU</td>\n",
       "      <td>Retired</td>\n",
       "      <td>NaN</td>\n",
       "      <td>5 Seasons</td>\n",
       "      <td>73.0</td>\n",
       "      <td>Johnson, Quinn</td>\n",
       "      <td>quinnjohnson/79593</td>\n",
       "      <td>NaN</td>\n",
       "      <td>255.0</td>\n",
       "      <td>2009 - 2013</td>\n",
       "      <td>rtd</td>\n",
       "      <td>SEC</td>\n",
       "    </tr>\n",
       "    <tr>\n",
       "      <th>4</th>\n",
       "      <td>25.0</td>\n",
       "      <td>Detroit , MI</td>\n",
       "      <td>3/31/1992</td>\n",
       "      <td>Central Michigan</td>\n",
       "      <td>Active</td>\n",
       "      <td>Pittsburgh Steelers</td>\n",
       "      <td>3rd season</td>\n",
       "      <td>77.0</td>\n",
       "      <td>Walton, L.T.</td>\n",
       "      <td>l.t.walton/2552444</td>\n",
       "      <td>DE</td>\n",
       "      <td>305.0</td>\n",
       "      <td>NaN</td>\n",
       "      <td>dff</td>\n",
       "      <td>other</td>\n",
       "    </tr>\n",
       "  </tbody>\n",
       "</table>\n",
       "</div>"
      ],
      "text/plain": [
       "    Age        Birth Place    Birthday           College Current Status  \\\n",
       "0   NaN  Grand Rapids , MI   5/23/1921        Notre Dame        Retired   \n",
       "1   NaN        Dayton , OH  12/21/1930            Dayton        Retired   \n",
       "2  56.0        Temple , TX   9/11/1960    Louisiana Tech        Retired   \n",
       "3  30.0   New Orleans , LA   9/30/1986               LSU        Retired   \n",
       "4  25.0       Detroit , MI   3/31/1992  Central Michigan         Active   \n",
       "\n",
       "          Current Team  Experience  Height (inches)            Name  \\\n",
       "0                  NaN   3 Seasons             71.0     Evans, Fred   \n",
       "1                  NaN    1 Season             70.0      Raiff, Jim   \n",
       "2                  NaN    1 Season             74.0   Fowler, Bobby   \n",
       "3                  NaN   5 Seasons             73.0  Johnson, Quinn   \n",
       "4  Pittsburgh Steelers  3rd season             77.0    Walton, L.T.   \n",
       "\n",
       "             Player Id Position  Weight (lbs) Years Played field_posn  \\\n",
       "0    fredevans/2513736      NaN         185.0  1946 - 1948        rtd   \n",
       "1     jimraiff/2523700      NaN         235.0  1954 - 1954        rtd   \n",
       "2  bobbyfowler/2514295      NaN         230.0  1985 - 1985        rtd   \n",
       "3   quinnjohnson/79593      NaN         255.0  2009 - 2013        rtd   \n",
       "4   l.t.walton/2552444       DE         305.0          NaN        dff   \n",
       "\n",
       "  college_conf  \n",
       "0        other  \n",
       "1        other  \n",
       "2        other  \n",
       "3          SEC  \n",
       "4        other  "
      ]
     },
     "execution_count": 12,
     "metadata": {},
     "output_type": "execute_result"
    }
   ],
   "source": [
    "# creating column that specifies which college football confrence players were in\n",
    "def create_tourn(series):\n",
    "    if series in ['Baylor', 'Iowa State', 'Kansas', 'Kansas State', 'Oklahoma', 'Oklahoma State', 'TCU', 'Texas', 'Texas Tech'\n",
    "              'West Virginia']:\n",
    "        return \"Big12\"\n",
    "    elif series in ['Ohio State', 'Michigan', 'Iowa', 'Penn State', 'Wisconsin', 'Nebraska', 'Minnesota', \n",
    "                    'Northwestern', 'Michigan State', 'Illinois', 'Purdue', 'Rutgers', 'Maryland', 'Indiana']:\n",
    "        return \"Big10\"\n",
    "    elif series in ['Alabama', 'Florida', 'Georgia', 'Mississippi', 'Arkansas', 'Texas A&M', 'LSU', 'Tennesse', 'Auburn', \n",
    "                    'Missouri', 'South Carolina', 'Kentucky', 'Mississippi State', 'Vanderbilt']:\n",
    "        return \"SEC\"\n",
    "    elif series in ['Washington', 'Washington State', 'Stanford', 'Carlifornia', 'Oregon State', 'Oregon', 'Colorado', 'USC',\n",
    "                   'Utah', 'Arizona State', 'UCLA', 'Arizona']:\n",
    "        return \"Pac-12\"\n",
    "    elif series in ['Boston College', 'Clemson', 'Florida State', 'Louisville', 'North Carolina State', 'Syracuse',\n",
    "                   'Wake Forest', 'Duke', 'Georgia Tech', 'Miami', 'North Carolina', 'Pittsburgh', 'Virginia', 'Virginia Tech']:\n",
    "        return \"ACC\"\n",
    "    else:\n",
    "        return \"other\"\n",
    "    \n",
    "gen_stats[\"college_conf\"] = gen_stats[\"College\"].apply(create_tourn)\n",
    "gen_stats.head()"
   ]
  },
  {
   "cell_type": "markdown",
   "metadata": {
    "azdata_cell_guid": "1233f543-e9a0-4f78-96f5-d7536554102e"
   },
   "source": [
    "## Irregular Data\n",
    "\n",
    "Detect outliers in your dataset and handle them as needed. Use code comments to make notes about your thought process."
   ]
  },
  {
   "cell_type": "code",
   "execution_count": 13,
   "metadata": {},
   "outputs": [
    {
     "data": {
      "text/html": [
       "<div>\n",
       "<style scoped>\n",
       "    .dataframe tbody tr th:only-of-type {\n",
       "        vertical-align: middle;\n",
       "    }\n",
       "\n",
       "    .dataframe tbody tr th {\n",
       "        vertical-align: top;\n",
       "    }\n",
       "\n",
       "    .dataframe thead th {\n",
       "        text-align: right;\n",
       "    }\n",
       "</style>\n",
       "<table border=\"1\" class=\"dataframe\">\n",
       "  <thead>\n",
       "    <tr style=\"text-align: right;\">\n",
       "      <th></th>\n",
       "      <th>Age</th>\n",
       "      <th>Height (inches)</th>\n",
       "      <th>Weight (lbs)</th>\n",
       "    </tr>\n",
       "  </thead>\n",
       "  <tbody>\n",
       "    <tr>\n",
       "      <th>count</th>\n",
       "      <td>13504.000000</td>\n",
       "      <td>17026.000000</td>\n",
       "      <td>17121.000000</td>\n",
       "    </tr>\n",
       "    <tr>\n",
       "      <th>mean</th>\n",
       "      <td>43.839307</td>\n",
       "      <td>73.508399</td>\n",
       "      <td>229.220665</td>\n",
       "    </tr>\n",
       "    <tr>\n",
       "      <th>std</th>\n",
       "      <td>34.133513</td>\n",
       "      <td>2.577632</td>\n",
       "      <td>42.732732</td>\n",
       "    </tr>\n",
       "    <tr>\n",
       "      <th>min</th>\n",
       "      <td>19.000000</td>\n",
       "      <td>61.000000</td>\n",
       "      <td>1.000000</td>\n",
       "    </tr>\n",
       "    <tr>\n",
       "      <th>25%</th>\n",
       "      <td>28.000000</td>\n",
       "      <td>72.000000</td>\n",
       "      <td>195.000000</td>\n",
       "    </tr>\n",
       "    <tr>\n",
       "      <th>50%</th>\n",
       "      <td>39.000000</td>\n",
       "      <td>74.000000</td>\n",
       "      <td>220.000000</td>\n",
       "    </tr>\n",
       "    <tr>\n",
       "      <th>75%</th>\n",
       "      <td>55.000000</td>\n",
       "      <td>75.000000</td>\n",
       "      <td>255.000000</td>\n",
       "    </tr>\n",
       "    <tr>\n",
       "      <th>max</th>\n",
       "      <td>2017.000000</td>\n",
       "      <td>82.000000</td>\n",
       "      <td>375.000000</td>\n",
       "    </tr>\n",
       "  </tbody>\n",
       "</table>\n",
       "</div>"
      ],
      "text/plain": [
       "                Age  Height (inches)  Weight (lbs)\n",
       "count  13504.000000     17026.000000  17121.000000\n",
       "mean      43.839307        73.508399    229.220665\n",
       "std       34.133513         2.577632     42.732732\n",
       "min       19.000000        61.000000      1.000000\n",
       "25%       28.000000        72.000000    195.000000\n",
       "50%       39.000000        74.000000    220.000000\n",
       "75%       55.000000        75.000000    255.000000\n",
       "max     2017.000000        82.000000    375.000000"
      ]
     },
     "execution_count": 13,
     "metadata": {},
     "output_type": "execute_result"
    }
   ],
   "source": [
    "gen_stats.describe()"
   ]
  },
  {
   "cell_type": "code",
   "execution_count": 14,
   "metadata": {
    "azdata_cell_guid": "efed50ae-16f0-471d-98e2-632553a74c12",
    "scrolled": true
   },
   "outputs": [
    {
     "data": {
      "text/html": [
       "<div>\n",
       "<style scoped>\n",
       "    .dataframe tbody tr th:only-of-type {\n",
       "        vertical-align: middle;\n",
       "    }\n",
       "\n",
       "    .dataframe tbody tr th {\n",
       "        vertical-align: top;\n",
       "    }\n",
       "\n",
       "    .dataframe thead th {\n",
       "        text-align: right;\n",
       "    }\n",
       "</style>\n",
       "<table border=\"1\" class=\"dataframe\">\n",
       "  <thead>\n",
       "    <tr style=\"text-align: right;\">\n",
       "      <th></th>\n",
       "      <th>Year</th>\n",
       "      <th>Games Played</th>\n",
       "      <th>Pass Attempts Per Game</th>\n",
       "      <th>Passer Rating</th>\n",
       "    </tr>\n",
       "  </thead>\n",
       "  <tbody>\n",
       "    <tr>\n",
       "      <th>count</th>\n",
       "      <td>8525.000000</td>\n",
       "      <td>8525.000000</td>\n",
       "      <td>8525.000000</td>\n",
       "      <td>8525.000000</td>\n",
       "    </tr>\n",
       "    <tr>\n",
       "      <th>mean</th>\n",
       "      <td>1982.052551</td>\n",
       "      <td>10.294311</td>\n",
       "      <td>5.787824</td>\n",
       "      <td>32.226111</td>\n",
       "    </tr>\n",
       "    <tr>\n",
       "      <th>std</th>\n",
       "      <td>23.822176</td>\n",
       "      <td>5.305723</td>\n",
       "      <td>10.533562</td>\n",
       "      <td>40.485956</td>\n",
       "    </tr>\n",
       "    <tr>\n",
       "      <th>min</th>\n",
       "      <td>1924.000000</td>\n",
       "      <td>0.000000</td>\n",
       "      <td>0.000000</td>\n",
       "      <td>0.000000</td>\n",
       "    </tr>\n",
       "    <tr>\n",
       "      <th>25%</th>\n",
       "      <td>1965.000000</td>\n",
       "      <td>6.000000</td>\n",
       "      <td>0.000000</td>\n",
       "      <td>0.000000</td>\n",
       "    </tr>\n",
       "    <tr>\n",
       "      <th>50%</th>\n",
       "      <td>1985.000000</td>\n",
       "      <td>12.000000</td>\n",
       "      <td>0.000000</td>\n",
       "      <td>0.000000</td>\n",
       "    </tr>\n",
       "    <tr>\n",
       "      <th>75%</th>\n",
       "      <td>2003.000000</td>\n",
       "      <td>15.000000</td>\n",
       "      <td>5.900000</td>\n",
       "      <td>64.900000</td>\n",
       "    </tr>\n",
       "    <tr>\n",
       "      <th>max</th>\n",
       "      <td>2016.000000</td>\n",
       "      <td>17.000000</td>\n",
       "      <td>51.000000</td>\n",
       "      <td>158.300000</td>\n",
       "    </tr>\n",
       "  </tbody>\n",
       "</table>\n",
       "</div>"
      ],
      "text/plain": [
       "              Year  Games Played  Pass Attempts Per Game  Passer Rating\n",
       "count  8525.000000   8525.000000             8525.000000    8525.000000\n",
       "mean   1982.052551     10.294311                5.787824      32.226111\n",
       "std      23.822176      5.305723               10.533562      40.485956\n",
       "min    1924.000000      0.000000                0.000000       0.000000\n",
       "25%    1965.000000      6.000000                0.000000       0.000000\n",
       "50%    1985.000000     12.000000                0.000000       0.000000\n",
       "75%    2003.000000     15.000000                5.900000      64.900000\n",
       "max    2016.000000     17.000000               51.000000     158.300000"
      ]
     },
     "execution_count": 14,
     "metadata": {},
     "output_type": "execute_result"
    }
   ],
   "source": [
    "passing_stats.describe()"
   ]
  },
  {
   "cell_type": "code",
   "execution_count": 15,
   "metadata": {},
   "outputs": [
    {
     "name": "stderr",
     "output_type": "stream",
     "text": [
      "C:\\Users\\Braxteen\\anaconda3\\lib\\site-packages\\seaborn\\_decorators.py:36: FutureWarning: Pass the following variable as a keyword arg: x. From version 0.12, the only valid positional argument will be `data`, and passing other arguments without an explicit keyword will result in an error or misinterpretation.\n",
      "  warnings.warn(\n"
     ]
    },
    {
     "data": {
      "text/plain": [
       "<AxesSubplot:xlabel='Age'>"
      ]
     },
     "execution_count": 15,
     "metadata": {},
     "output_type": "execute_result"
    },
    {
     "data": {
      "image/png": "[encoded data removed]",
      "text/plain": [
       "<Figure size 432x288 with 1 Axes>"
      ]
     },
     "metadata": {
      "needs_background": "light"
     },
     "output_type": "display_data"
    }
   ],
   "source": [
    "# detecting outliers for age\n",
    "sns.boxplot(gen_stats['Age'])\n"
   ]
  },
  {
   "cell_type": "code",
   "execution_count": 16,
   "metadata": {},
   "outputs": [
    {
     "data": {
      "text/plain": [
       "<matplotlib.collections.PathCollection at 0x256baf66cd0>"
      ]
     },
     "execution_count": 16,
     "metadata": {},
     "output_type": "execute_result"
    },
    {
     "data": {
      "image/png": "[encoded data removed]",
      "text/plain": [
       "<Figure size 1296x720 with 1 Axes>"
      ]
     },
     "metadata": {
      "needs_background": "light"
     },
     "output_type": "display_data"
    }
   ],
   "source": [
    "# Scatter plot to detect outliers in 'passing_stats' dataset\n",
    "fig, ax = plt.subplots(figsize = (18,10))\n",
    "ax.scatter(passing_stats['Pass Attempts Per Game'], passing_stats['Games Played'])\n"
   ]
  },
  {
   "cell_type": "code",
   "execution_count": 17,
   "metadata": {},
   "outputs": [
    {
     "name": "stderr",
     "output_type": "stream",
     "text": [
      "C:\\Users\\Braxteen\\anaconda3\\lib\\site-packages\\seaborn\\distributions.py:2619: FutureWarning: `distplot` is a deprecated function and will be removed in a future version. Please adapt your code to use either `displot` (a figure-level function with similar flexibility) or `histplot` (an axes-level function for histograms).\n",
      "  warnings.warn(msg, FutureWarning)\n"
     ]
    },
    {
     "data": {
      "image/png": "[encoded data removed]",
      "text/plain": [
       "<Figure size 432x288 with 1 Axes>"
      ]
     },
     "metadata": {
      "needs_background": "light"
     },
     "output_type": "display_data"
    }
   ],
   "source": [
    "# distplot to detect outliers in 'passing_stats' dataset\n",
    "sns.distplot(passing_stats['Year'], bins=15, kde=False)\n",
    "plt.show()"
   ]
  },
  {
   "cell_type": "code",
   "execution_count": 18,
   "metadata": {},
   "outputs": [],
   "source": [
    "# Deleting Outlier\n",
    "# There's an outlier in the 'Age' column in the 'gen_stats' dataset, so i'll delete it\n",
    "\n",
    "Q1 = gen_stats['Age'].quantile(0.25)\n",
    "Q3 = gen_stats['Age'].quantile(0.75)\n",
    "IQR = Q3 - Q1\n",
    "\n",
    "gen_stats = gen_stats[~((gen_stats['Age'] < (Q1 - 1.5 * IQR))|(gen_stats['Age'] > (Q3 + 1.5 * IQR)))]\n"
   ]
  },
  {
   "cell_type": "code",
   "execution_count": 19,
   "metadata": {},
   "outputs": [
    {
     "name": "stderr",
     "output_type": "stream",
     "text": [
      "C:\\Users\\Braxteen\\anaconda3\\lib\\site-packages\\seaborn\\_decorators.py:36: FutureWarning: Pass the following variable as a keyword arg: x. From version 0.12, the only valid positional argument will be `data`, and passing other arguments without an explicit keyword will result in an error or misinterpretation.\n",
      "  warnings.warn(\n"
     ]
    },
    {
     "data": {
      "text/plain": [
       "<AxesSubplot:xlabel='Age'>"
      ]
     },
     "execution_count": 19,
     "metadata": {},
     "output_type": "execute_result"
    },
    {
     "data": {
      "image/png": "[encoded data removed]",
      "text/plain": [
       "<Figure size 432x288 with 1 Axes>"
      ]
     },
     "metadata": {
      "needs_background": "light"
     },
     "output_type": "display_data"
    }
   ],
   "source": [
    "# double checking that the outlier has been deleted\n",
    "sns.boxplot(gen_stats['Age'])"
   ]
  },
  {
   "cell_type": "code",
   "execution_count": 20,
   "metadata": {},
   "outputs": [
    {
     "data": {
      "text/html": [
       "<div>\n",
       "<style scoped>\n",
       "    .dataframe tbody tr th:only-of-type {\n",
       "        vertical-align: middle;\n",
       "    }\n",
       "\n",
       "    .dataframe tbody tr th {\n",
       "        vertical-align: top;\n",
       "    }\n",
       "\n",
       "    .dataframe thead th {\n",
       "        text-align: right;\n",
       "    }\n",
       "</style>\n",
       "<table border=\"1\" class=\"dataframe\">\n",
       "  <thead>\n",
       "    <tr style=\"text-align: right;\">\n",
       "      <th></th>\n",
       "      <th>Age</th>\n",
       "      <th>Height (inches)</th>\n",
       "      <th>Weight (lbs)</th>\n",
       "    </tr>\n",
       "  </thead>\n",
       "  <tbody>\n",
       "    <tr>\n",
       "      <th>count</th>\n",
       "      <td>13445.000000</td>\n",
       "      <td>16968.000000</td>\n",
       "      <td>17062.000000</td>\n",
       "    </tr>\n",
       "    <tr>\n",
       "      <th>mean</th>\n",
       "      <td>43.162068</td>\n",
       "      <td>73.512612</td>\n",
       "      <td>229.305181</td>\n",
       "    </tr>\n",
       "    <tr>\n",
       "      <th>std</th>\n",
       "      <td>16.960408</td>\n",
       "      <td>2.578151</td>\n",
       "      <td>42.763451</td>\n",
       "    </tr>\n",
       "    <tr>\n",
       "      <th>min</th>\n",
       "      <td>19.000000</td>\n",
       "      <td>61.000000</td>\n",
       "      <td>1.000000</td>\n",
       "    </tr>\n",
       "    <tr>\n",
       "      <th>25%</th>\n",
       "      <td>28.000000</td>\n",
       "      <td>72.000000</td>\n",
       "      <td>195.000000</td>\n",
       "    </tr>\n",
       "    <tr>\n",
       "      <th>50%</th>\n",
       "      <td>39.000000</td>\n",
       "      <td>74.000000</td>\n",
       "      <td>220.000000</td>\n",
       "    </tr>\n",
       "    <tr>\n",
       "      <th>75%</th>\n",
       "      <td>55.000000</td>\n",
       "      <td>75.000000</td>\n",
       "      <td>255.000000</td>\n",
       "    </tr>\n",
       "    <tr>\n",
       "      <th>max</th>\n",
       "      <td>95.000000</td>\n",
       "      <td>82.000000</td>\n",
       "      <td>375.000000</td>\n",
       "    </tr>\n",
       "  </tbody>\n",
       "</table>\n",
       "</div>"
      ],
      "text/plain": [
       "                Age  Height (inches)  Weight (lbs)\n",
       "count  13445.000000     16968.000000  17062.000000\n",
       "mean      43.162068        73.512612    229.305181\n",
       "std       16.960408         2.578151     42.763451\n",
       "min       19.000000        61.000000      1.000000\n",
       "25%       28.000000        72.000000    195.000000\n",
       "50%       39.000000        74.000000    220.000000\n",
       "75%       55.000000        75.000000    255.000000\n",
       "max       95.000000        82.000000    375.000000"
      ]
     },
     "execution_count": 20,
     "metadata": {},
     "output_type": "execute_result"
    }
   ],
   "source": [
    "gen_stats.describe()"
   ]
  },
  {
   "cell_type": "markdown",
   "metadata": {
    "azdata_cell_guid": "6f5b8ee0-bab3-44bc-958a-67d1e4c0407f"
   },
   "source": [
    "## Unnecessary Data\n",
    "\n",
    "Look for the different types of unnecessary data in your dataset and address it as needed. Make sure to use code comments to illustrate your thought process."
   ]
  },
  {
   "cell_type": "code",
   "execution_count": 21,
   "metadata": {
    "azdata_cell_guid": "e788a239-2fbf-41de-9bd3-19e52e3b187c"
   },
   "outputs": [
    {
     "data": {
      "text/plain": [
       "(0, 15)"
      ]
     },
     "execution_count": 21,
     "metadata": {},
     "output_type": "execute_result"
    }
   ],
   "source": [
    "# check for duplicates\n",
    "duplicate_rows = gen_stats[gen_stats.duplicated()]\n",
    "duplicate_rows.shape"
   ]
  },
  {
   "cell_type": "code",
   "execution_count": 22,
   "metadata": {},
   "outputs": [
    {
     "data": {
      "text/plain": [
       "(0, 23)"
      ]
     },
     "execution_count": 22,
     "metadata": {},
     "output_type": "execute_result"
    }
   ],
   "source": [
    "duplicated_rows = passing_stats[passing_stats.duplicated()]\n",
    "duplicated_rows.shape"
   ]
  },
  {
   "cell_type": "code",
   "execution_count": 23,
   "metadata": {},
   "outputs": [],
   "source": [
    "# remove teams that are no-longer in the NFL"
   ]
  },
  {
   "cell_type": "markdown",
   "metadata": {
    "azdata_cell_guid": "53e0cf94-c68a-4fa0-9849-9505a66bcce6"
   },
   "source": [
    "## Inconsistent Data\n",
    "\n",
    "Check for inconsistent data and address any that arises. As always, use code comments to illustrate your thought process."
   ]
  },
  {
   "cell_type": "code",
   "execution_count": 24,
   "metadata": {
    "azdata_cell_guid": "e9de6624-812a-43f8-8e20-93b4a49b091f"
   },
   "outputs": [
    {
     "data": {
      "text/html": [
       "<div>\n",
       "<style scoped>\n",
       "    .dataframe tbody tr th:only-of-type {\n",
       "        vertical-align: middle;\n",
       "    }\n",
       "\n",
       "    .dataframe tbody tr th {\n",
       "        vertical-align: top;\n",
       "    }\n",
       "\n",
       "    .dataframe thead th {\n",
       "        text-align: right;\n",
       "    }\n",
       "</style>\n",
       "<table border=\"1\" class=\"dataframe\">\n",
       "  <thead>\n",
       "    <tr style=\"text-align: right;\">\n",
       "      <th></th>\n",
       "      <th>Age</th>\n",
       "      <th>Birth_Place</th>\n",
       "      <th>Birthday</th>\n",
       "      <th>College</th>\n",
       "      <th>Current_Status</th>\n",
       "      <th>Current_Team</th>\n",
       "      <th>Experience</th>\n",
       "      <th>Height(inches)</th>\n",
       "      <th>Name</th>\n",
       "      <th>Player_Id</th>\n",
       "      <th>Position</th>\n",
       "      <th>Weight(lbs)</th>\n",
       "      <th>Years_Played</th>\n",
       "      <th>field_posn</th>\n",
       "      <th>college_conf</th>\n",
       "    </tr>\n",
       "  </thead>\n",
       "  <tbody>\n",
       "    <tr>\n",
       "      <th>0</th>\n",
       "      <td>NaN</td>\n",
       "      <td>Grand Rapids , MI</td>\n",
       "      <td>5/23/1921</td>\n",
       "      <td>Notre Dame</td>\n",
       "      <td>Retired</td>\n",
       "      <td>NaN</td>\n",
       "      <td>3 Seasons</td>\n",
       "      <td>71.0</td>\n",
       "      <td>Evans, Fred</td>\n",
       "      <td>fredevans/2513736</td>\n",
       "      <td>NaN</td>\n",
       "      <td>185.0</td>\n",
       "      <td>1946 - 1948</td>\n",
       "      <td>rtd</td>\n",
       "      <td>other</td>\n",
       "    </tr>\n",
       "    <tr>\n",
       "      <th>1</th>\n",
       "      <td>NaN</td>\n",
       "      <td>Dayton , OH</td>\n",
       "      <td>12/21/1930</td>\n",
       "      <td>Dayton</td>\n",
       "      <td>Retired</td>\n",
       "      <td>NaN</td>\n",
       "      <td>1 Season</td>\n",
       "      <td>70.0</td>\n",
       "      <td>Raiff, Jim</td>\n",
       "      <td>jimraiff/2523700</td>\n",
       "      <td>NaN</td>\n",
       "      <td>235.0</td>\n",
       "      <td>1954 - 1954</td>\n",
       "      <td>rtd</td>\n",
       "      <td>other</td>\n",
       "    </tr>\n",
       "    <tr>\n",
       "      <th>2</th>\n",
       "      <td>56.0</td>\n",
       "      <td>Temple , TX</td>\n",
       "      <td>9/11/1960</td>\n",
       "      <td>Louisiana Tech</td>\n",
       "      <td>Retired</td>\n",
       "      <td>NaN</td>\n",
       "      <td>1 Season</td>\n",
       "      <td>74.0</td>\n",
       "      <td>Fowler, Bobby</td>\n",
       "      <td>bobbyfowler/2514295</td>\n",
       "      <td>NaN</td>\n",
       "      <td>230.0</td>\n",
       "      <td>1985 - 1985</td>\n",
       "      <td>rtd</td>\n",
       "      <td>other</td>\n",
       "    </tr>\n",
       "    <tr>\n",
       "      <th>3</th>\n",
       "      <td>30.0</td>\n",
       "      <td>New Orleans , LA</td>\n",
       "      <td>9/30/1986</td>\n",
       "      <td>LSU</td>\n",
       "      <td>Retired</td>\n",
       "      <td>NaN</td>\n",
       "      <td>5 Seasons</td>\n",
       "      <td>73.0</td>\n",
       "      <td>Johnson, Quinn</td>\n",
       "      <td>quinnjohnson/79593</td>\n",
       "      <td>NaN</td>\n",
       "      <td>255.0</td>\n",
       "      <td>2009 - 2013</td>\n",
       "      <td>rtd</td>\n",
       "      <td>SEC</td>\n",
       "    </tr>\n",
       "    <tr>\n",
       "      <th>4</th>\n",
       "      <td>25.0</td>\n",
       "      <td>Detroit , MI</td>\n",
       "      <td>3/31/1992</td>\n",
       "      <td>Central Michigan</td>\n",
       "      <td>Active</td>\n",
       "      <td>Pittsburgh Steelers</td>\n",
       "      <td>3rd season</td>\n",
       "      <td>77.0</td>\n",
       "      <td>Walton, L.T.</td>\n",
       "      <td>l.t.walton/2552444</td>\n",
       "      <td>DE</td>\n",
       "      <td>305.0</td>\n",
       "      <td>NaN</td>\n",
       "      <td>dff</td>\n",
       "      <td>other</td>\n",
       "    </tr>\n",
       "  </tbody>\n",
       "</table>\n",
       "</div>"
      ],
      "text/plain": [
       "    Age        Birth_Place    Birthday           College Current_Status  \\\n",
       "0   NaN  Grand Rapids , MI   5/23/1921        Notre Dame        Retired   \n",
       "1   NaN        Dayton , OH  12/21/1930            Dayton        Retired   \n",
       "2  56.0        Temple , TX   9/11/1960    Louisiana Tech        Retired   \n",
       "3  30.0   New Orleans , LA   9/30/1986               LSU        Retired   \n",
       "4  25.0       Detroit , MI   3/31/1992  Central Michigan         Active   \n",
       "\n",
       "          Current_Team  Experience  Height(inches)            Name  \\\n",
       "0                  NaN   3 Seasons            71.0     Evans, Fred   \n",
       "1                  NaN    1 Season            70.0      Raiff, Jim   \n",
       "2                  NaN    1 Season            74.0   Fowler, Bobby   \n",
       "3                  NaN   5 Seasons            73.0  Johnson, Quinn   \n",
       "4  Pittsburgh Steelers  3rd season            77.0    Walton, L.T.   \n",
       "\n",
       "             Player_Id Position  Weight(lbs) Years_Played field_posn  \\\n",
       "0    fredevans/2513736      NaN        185.0  1946 - 1948        rtd   \n",
       "1     jimraiff/2523700      NaN        235.0  1954 - 1954        rtd   \n",
       "2  bobbyfowler/2514295      NaN        230.0  1985 - 1985        rtd   \n",
       "3   quinnjohnson/79593      NaN        255.0  2009 - 2013        rtd   \n",
       "4   l.t.walton/2552444       DE        305.0          NaN        dff   \n",
       "\n",
       "  college_conf  \n",
       "0        other  \n",
       "1        other  \n",
       "2        other  \n",
       "3          SEC  \n",
       "4        other  "
      ]
     },
     "execution_count": 24,
     "metadata": {},
     "output_type": "execute_result"
    }
   ],
   "source": [
    "# renaming columns from 2 words to one word using underscore, to match the standard naming criteria for columns\n",
    "gen_stats.rename(columns={\"Birth Place\":\"Birth_Place\", \"Current Status\":\"Current_Status\", \"Current Team\":\"Current_Team\",\n",
    "                         \"Height (inches)\":\"Height(inches)\", \"Player Id\":\"Player_Id\", \"Weight (lbs)\":\"Weight(lbs)\",\n",
    "                         \"Years Played\":\"Years_Played\"},inplace=True)\n",
    "gen_stats.head()"
   ]
  },
  {
   "cell_type": "code",
   "execution_count": 28,
   "metadata": {},
   "outputs": [
    {
     "data": {
      "text/html": [
       "<div>\n",
       "<style scoped>\n",
       "    .dataframe tbody tr th:only-of-type {\n",
       "        vertical-align: middle;\n",
       "    }\n",
       "\n",
       "    .dataframe tbody tr th {\n",
       "        vertical-align: top;\n",
       "    }\n",
       "\n",
       "    .dataframe thead th {\n",
       "        text-align: right;\n",
       "    }\n",
       "</style>\n",
       "<table border=\"1\" class=\"dataframe\">\n",
       "  <thead>\n",
       "    <tr style=\"text-align: right;\">\n",
       "      <th></th>\n",
       "      <th>Player_Id</th>\n",
       "      <th>Name</th>\n",
       "      <th>Position</th>\n",
       "      <th>Year</th>\n",
       "      <th>Team</th>\n",
       "      <th>Games_Played</th>\n",
       "      <th>Passes_Attempted</th>\n",
       "      <th>Passes_Completed</th>\n",
       "      <th>Completion(%age)</th>\n",
       "      <th>Pass_Attempts_Per_Game</th>\n",
       "      <th>...</th>\n",
       "      <th>TD_Passes</th>\n",
       "      <th>(%age)_TDs_per_Attempts</th>\n",
       "      <th>Ints</th>\n",
       "      <th>Int_Rate</th>\n",
       "      <th>Longest_Pass</th>\n",
       "      <th>Passes&gt;20_Yds</th>\n",
       "      <th>Passes&gt;40_Yds</th>\n",
       "      <th>Sacks</th>\n",
       "      <th>Sacked_Yds_Lost</th>\n",
       "      <th>Passer_Rating</th>\n",
       "    </tr>\n",
       "  </thead>\n",
       "  <tbody>\n",
       "    <tr>\n",
       "      <th>0</th>\n",
       "      <td>tomfarris/2513861</td>\n",
       "      <td>Farris, Tom</td>\n",
       "      <td>NaN</td>\n",
       "      <td>1948</td>\n",
       "      <td>Chicago Rockets</td>\n",
       "      <td>0</td>\n",
       "      <td>--</td>\n",
       "      <td>--</td>\n",
       "      <td>--</td>\n",
       "      <td>0.0</td>\n",
       "      <td>...</td>\n",
       "      <td>--</td>\n",
       "      <td>--</td>\n",
       "      <td>--</td>\n",
       "      <td>--</td>\n",
       "      <td>--</td>\n",
       "      <td>--</td>\n",
       "      <td>--</td>\n",
       "      <td>--</td>\n",
       "      <td>--</td>\n",
       "      <td>0.0</td>\n",
       "    </tr>\n",
       "    <tr>\n",
       "      <th>1</th>\n",
       "      <td>tomfarris/2513861</td>\n",
       "      <td>Farris, Tom</td>\n",
       "      <td>NaN</td>\n",
       "      <td>1947</td>\n",
       "      <td>Chicago Bears</td>\n",
       "      <td>9</td>\n",
       "      <td>2</td>\n",
       "      <td>0</td>\n",
       "      <td>0.0</td>\n",
       "      <td>0.2</td>\n",
       "      <td>...</td>\n",
       "      <td>0</td>\n",
       "      <td>0.0</td>\n",
       "      <td>0</td>\n",
       "      <td>0.0</td>\n",
       "      <td>--</td>\n",
       "      <td>0</td>\n",
       "      <td>0</td>\n",
       "      <td>0</td>\n",
       "      <td>0</td>\n",
       "      <td>39.6</td>\n",
       "    </tr>\n",
       "    <tr>\n",
       "      <th>2</th>\n",
       "      <td>tomfarris/2513861</td>\n",
       "      <td>Farris, Tom</td>\n",
       "      <td>NaN</td>\n",
       "      <td>1946</td>\n",
       "      <td>Chicago Bears</td>\n",
       "      <td>11</td>\n",
       "      <td>21</td>\n",
       "      <td>8</td>\n",
       "      <td>38.1</td>\n",
       "      <td>1.9</td>\n",
       "      <td>...</td>\n",
       "      <td>1</td>\n",
       "      <td>4.8</td>\n",
       "      <td>2</td>\n",
       "      <td>9.5</td>\n",
       "      <td>--</td>\n",
       "      <td>0</td>\n",
       "      <td>0</td>\n",
       "      <td>0</td>\n",
       "      <td>0</td>\n",
       "      <td>31.5</td>\n",
       "    </tr>\n",
       "    <tr>\n",
       "      <th>3</th>\n",
       "      <td>billdemory/2512778</td>\n",
       "      <td>Demory, Bill</td>\n",
       "      <td>NaN</td>\n",
       "      <td>1974</td>\n",
       "      <td>New York Jets</td>\n",
       "      <td>1</td>\n",
       "      <td>--</td>\n",
       "      <td>--</td>\n",
       "      <td>--</td>\n",
       "      <td>0.0</td>\n",
       "      <td>...</td>\n",
       "      <td>--</td>\n",
       "      <td>--</td>\n",
       "      <td>--</td>\n",
       "      <td>--</td>\n",
       "      <td>--</td>\n",
       "      <td>--</td>\n",
       "      <td>--</td>\n",
       "      <td>--</td>\n",
       "      <td>--</td>\n",
       "      <td>0.0</td>\n",
       "    </tr>\n",
       "    <tr>\n",
       "      <th>4</th>\n",
       "      <td>billdemory/2512778</td>\n",
       "      <td>Demory, Bill</td>\n",
       "      <td>NaN</td>\n",
       "      <td>1973</td>\n",
       "      <td>New York Jets</td>\n",
       "      <td>6</td>\n",
       "      <td>39</td>\n",
       "      <td>12</td>\n",
       "      <td>30.8</td>\n",
       "      <td>6.5</td>\n",
       "      <td>...</td>\n",
       "      <td>2</td>\n",
       "      <td>5.1</td>\n",
       "      <td>8</td>\n",
       "      <td>20.5</td>\n",
       "      <td>--</td>\n",
       "      <td>0</td>\n",
       "      <td>0</td>\n",
       "      <td>8</td>\n",
       "      <td>73</td>\n",
       "      <td>22.2</td>\n",
       "    </tr>\n",
       "  </tbody>\n",
       "</table>\n",
       "<p>5 rows × 23 columns</p>\n",
       "</div>"
      ],
      "text/plain": [
       "            Player_Id          Name Position  Year             Team  \\\n",
       "0   tomfarris/2513861   Farris, Tom      NaN  1948  Chicago Rockets   \n",
       "1   tomfarris/2513861   Farris, Tom      NaN  1947    Chicago Bears   \n",
       "2   tomfarris/2513861   Farris, Tom      NaN  1946    Chicago Bears   \n",
       "3  billdemory/2512778  Demory, Bill      NaN  1974    New York Jets   \n",
       "4  billdemory/2512778  Demory, Bill      NaN  1973    New York Jets   \n",
       "\n",
       "   Games_Played Passes_Attempted Passes_Completed Completion(%age)  \\\n",
       "0             0               --               --               --   \n",
       "1             9                2                0              0.0   \n",
       "2            11               21                8             38.1   \n",
       "3             1               --               --               --   \n",
       "4             6               39               12             30.8   \n",
       "\n",
       "   Pass_Attempts_Per_Game  ... TD_Passes (%age)_TDs_per_Attempts Ints  \\\n",
       "0                     0.0  ...        --                      --   --   \n",
       "1                     0.2  ...         0                     0.0    0   \n",
       "2                     1.9  ...         1                     4.8    2   \n",
       "3                     0.0  ...        --                      --   --   \n",
       "4                     6.5  ...         2                     5.1    8   \n",
       "\n",
       "  Int_Rate Longest_Pass Passes>20_Yds Passes>40_Yds Sacks Sacked_Yds_Lost  \\\n",
       "0       --           --            --            --    --              --   \n",
       "1      0.0           --             0             0     0               0   \n",
       "2      9.5           --             0             0     0               0   \n",
       "3       --           --            --            --    --              --   \n",
       "4     20.5           --             0             0     8              73   \n",
       "\n",
       "  Passer_Rating  \n",
       "0           0.0  \n",
       "1          39.6  \n",
       "2          31.5  \n",
       "3           0.0  \n",
       "4          22.2  \n",
       "\n",
       "[5 rows x 23 columns]"
      ]
     },
     "execution_count": 28,
     "metadata": {},
     "output_type": "execute_result"
    }
   ],
   "source": [
    "passing_stats.rename(columns={\"Player Id\":\"Player_Id\", \"Games Played\":\"Games_Played\", \"Passes Attempted\":\"Passes_Attempted\",\n",
    "                             \"Passes Completed\":\"Passes_Completed\", \"Completion Percentage\":\"Completion(%age)\",\n",
    "                             \"Pass Attempts Per Game\":\"Pass_Attempts_Per_Game\", \"Passing Yards\":\"Passing_Yds\",\n",
    "                             \"Passing Yards Per Attempt\":\"Passing_Yards_Per_Attempt\",\n",
    "                             \"Passing Yards Per Game\":\"Passing_Yards_Per_Game\", \"TD Passes\":\"TD_Passes\",\n",
    "                             \"Percentage of TDs per Attempts\":\"(%age)_TDs_per_Attempts\", \"Int Rate\":\"Int_Rate\",\n",
    "                             \"Longest Pass\":\"Longest_Pass\", \"Passes Longer than 20 Yards\":\"Passes>20_Yds\",\n",
    "                             \"Passes Longer than 40 Yards\":\"Passes>40_Yds\", \"Sacked Yards Lost\":\"Sacked_Yds_Lost\",\n",
    "                             \"Passer Rating\":\"Passer_Rating\"},inplace=True)\n",
    "\n",
    "passing_stats.head()"
   ]
  },
  {
   "cell_type": "code",
   "execution_count": 26,
   "metadata": {},
   "outputs": [],
   "source": [
    "# exporting the dataframes\n",
    "gen_stats.to_csv('gen_stats.csv')\n",
    "passing_stats.to_csv('passing_stats.csv')"
   ]
  },
  {
   "cell_type": "markdown",
   "metadata": {
    "azdata_cell_guid": "dedc0bfe-17d0-40b2-914f-2ddb54f9ce0d"
   },
   "source": [
    "## Summarize Your Results\n",
    "\n",
    "Make note of your answers to the following questions.\n",
    "\n",
    "1. Did you find all four types of dirty data in your dataset?<br>\n",
    "   I did not find 'unnecessary data'<br>\n",
    "   <br>\n",
    "2. Did the process of cleaning your data give you new insights into your dataset?\n",
    "   Yes<br>\n",
    "   <br>\n",
    "3. Is there anything you would like to make note of when it comes to manipulating the data and making visualizations?<br>\n",
    "   The gen_stats dataset has many missing values because it contains both active and retired players data, and the<br>\n",
    "   data for retired players hasn't been included.\n",
    "   <br>"
   ]
  }
 ],
 "metadata": {
  "kernelspec": {
   "display_name": "Python 3 (ipykernel)",
   "language": "python",
   "name": "python3"
  },
  "language_info": {
   "codemirror_mode": {
    "name": "ipython",
    "version": 3
   },
   "file_extension": ".py",
   "mimetype": "text/x-python",
   "name": "python",
   "nbconvert_exporter": "python",
   "pygments_lexer": "ipython3",
   "version": "3.9.7"
  }
 },
 "nbformat": 4,
 "nbformat_minor": 2
}
